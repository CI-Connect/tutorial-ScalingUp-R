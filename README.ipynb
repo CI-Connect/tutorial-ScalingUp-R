{
 "cells": [
  {
   "cell_type": "markdown",
   "id": "bd85ed70-930f-42eb-88f3-847ca5efefa8",
   "metadata": {},
   "source": [
    "## Background\n",
    "\n",
    "For this example, we will use computational methods to estimate pi. First,\n",
    "we will define a square inscribed by a unit circle from which we will \n",
    "randomly sample points. The ratio of the points outside the circle to \n",
    "the points in the circle is calculated which approaches pi/4. \n",
    "\n",
    "This method converges extremely slowly, which makes it great for a \n",
    "CPU-intensive exercise (but bad for a real estimation!)."
   ]
  },
  {
   "cell_type": "markdown",
   "id": "a8e24650-f032-4636-8a29-4aca0accb129",
   "metadata": {},
   "source": [
    "## Job Script\n",
    "\n",
    "Our code is a simple R script that does the estimation. It takes in a single argument, simply \n",
    "for the purposes of differentiating the jobs. "
   ]
  },
  {
   "cell_type": "code",
   "execution_count": 1,
   "id": "2aeb7bb3-0fa1-4c1c-a4bc-2beea56fef81",
   "metadata": {},
   "outputs": [
    {
     "name": "stdout",
     "output_type": "stream",
     "text": [
      "#!/usr/bin/env Rscript\n",
      "\n",
      "args = commandArgs(trailingOnly = TRUE)\n",
      "iternum = as.numeric(args[[1]]) + 100\n",
      "\n",
      "montecarloPi <- function(trials) {\n",
      "  count = 0\n",
      "  for(i in 1:trials) {\n",
      "    if((runif(1,0,1)^2 + runif(1,0,1)^2)<1) {\n",
      "      count = count + 1\n",
      "    }\n",
      "  }\n",
      "  return((count*4)/trials)\n",
      "}\n",
      " \n",
      "montecarloPi(iternum)\n"
     ]
    }
   ],
   "source": [
    "cat mcpi.R"
   ]
  },
  {
   "cell_type": "markdown",
   "id": "e906b940-4919-45bb-b9d4-bd54f89650a7",
   "metadata": {},
   "source": [
    "The header at the top of the file indicates that this script is \n",
    "meant to be run using R. \n",
    "\n",
    "> If you want to test the script, start a separate terminal window and then run the following \n",
    "> two cmmands to start an R container, and then run \n",
    "> the script using `Rscript`: \n",
    "> \n",
    ">     $ singularity shell \\\n",
    "\t   /cvmfs/singularity.opensciencegrid.org/opensciencegrid/osgvo-r:3.5.0\n",
    "     Singularity osgvo-r:3.5.0:~> ./mcpi.R 10\n",
    "     [1] 3.14\n",
    "     Singularity osgvo-r:3.5.0:~> exit\n",
    "     $ \n",
    "\n",
    "If we were running a more intensive script, we would want to test our pipeline \n",
    "with a shortened, test script first.\n"
   ]
  },
  {
   "cell_type": "markdown",
   "id": "7e799147-0e65-4989-9ee5-95ff26efe1ca",
   "metadata": {},
   "source": [
    "## Create a Submit File and Log Directory\n",
    "\n",
    "Now that we have our R script written and tested, \n",
    "we can begin building the submit file for our job. If we want to submit several \n",
    "jobs, we need to track log, out and error files for each\n",
    "job. An easy way to do this is to use the Cluster and Process ID\n",
    "values assigned by HTCondor to create unique files for each job in our \n",
    "overall workflow.\n",
    "\n",
    "In the submit file below, we are separating the standard error and HTCondor \n",
    "log files from the standard output file, because the standard output file \n",
    "will have our results. "
   ]
  },
  {
   "cell_type": "code",
   "execution_count": 2,
   "id": "0812e323-d24f-4779-89a5-e52e05e75792",
   "metadata": {},
   "outputs": [
    {
     "name": "stdout",
     "output_type": "stream",
     "text": [
      "universe = container\n",
      "container_image = /cvmfs/singularity.opensciencegrid.org/opensciencegrid/osgvo-r:3.5.0\n",
      "\n",
      "executable = mcpi.R\n",
      "arguments = $(Process)\n",
      "\n",
      "#transfer_input_files \t= \n",
      "should_transfer_files \t= YES\n",
      "when_to_transfer_output = ON_EXIT\n",
      "\n",
      "output \t= output/mcpi.out.$(Cluster).$(Process)\n",
      "\n",
      "log \t= logs/job.log.$(Cluster).$(Process)\n",
      "error \t= logs/job.error.$(Cluster).$(Process)\n",
      "\n",
      "request_cpus = 1\n",
      "request_memory = 200MB\n",
      "request_disk = 300MB\n",
      "\n",
      "queue 100\n"
     ]
    }
   ],
   "source": [
    "cat R.container.submit"
   ]
  },
  {
   "cell_type": "markdown",
   "id": "03c1774e-ac43-4772-ab97-2e3779aa4c0a",
   "metadata": {},
   "source": [
    "Note the `queue 100`.  This tells Condor to enqueue 100 copies of this job\n",
    "as one cluster. Also, notice the use of `$(Cluster)` and `$(Process)` to specify unique \n",
    "output files. HTCondor will replace these with the Cluster and Process ID numbers for each \n",
    "individual process within the cluster. \n",
    "\n",
    "## Submit the Jobs\n",
    "\n",
    "Now it is time to submit our job! You'll see something like the following upon submission:"
   ]
  },
  {
   "cell_type": "code",
   "execution_count": 3,
   "id": "5f62114a-1b57-4331-819c-ed61b424ad83",
   "metadata": {},
   "outputs": [
    {
     "name": "stdout",
     "output_type": "stream",
     "text": [
      "Submitting job(s)....................................................................................................\n",
      "100 job(s) submitted to cluster 1.\n"
     ]
    }
   ],
   "source": [
    "condor_submit R.container.submit"
   ]
  },
  {
   "cell_type": "markdown",
   "id": "2dc7522e-07b1-4aac-ad56-d723f23635f3",
   "metadata": {},
   "source": [
    "Run `condor_q` to see this job\n",
    "progress. Check your `logs` and `output` folder to see the individual output files."
   ]
  },
  {
   "cell_type": "code",
   "execution_count": 4,
   "id": "923b995c-974c-45df-ad5f-461070ca6e66",
   "metadata": {},
   "outputs": [
    {
     "name": "stdout",
     "output_type": "stream",
     "text": [
      "\n",
      "\n",
      "-- Schedd: jovyan@jupyter-email-3achristinakconnect-40gmail-2ecom : <127.0.0.1:9618?... @ 03/26/23 02:53:59\n",
      "OWNER  BATCH_NAME    SUBMITTED   DONE   RUN    IDLE  TOTAL JOB_IDS\n",
      "jovyan ID: 1        3/26 02:53      _      _    100    100 1.0-99\n",
      "\n",
      "Total for query: 100 jobs; 0 completed, 0 removed, 100 idle, 0 running, 0 held, 0 suspended \n",
      "Total for all users: 100 jobs; 0 completed, 0 removed, 100 idle, 0 running, 0 held, 0 suspended\n",
      "\n"
     ]
    }
   ],
   "source": [
    "condor_q"
   ]
  },
  {
   "cell_type": "markdown",
   "id": "72dec47d-c4ec-4f83-8156-81f8c9d1b75f",
   "metadata": {},
   "source": [
    "## Post Process⋅\n",
    "\n",
    "Once the jobs are completed, you can use the information in the output files \n",
    "to calculate an average of all of our computed estimates of Pi.\n",
    "\n",
    "To see this, we can use the command: "
   ]
  },
  {
   "cell_type": "code",
   "execution_count": 31,
   "id": "0881741c-e994-4d9d-ae2a-96d4e7dfcc6e",
   "metadata": {},
   "outputs": [
    {
     "name": "stdout",
     "output_type": "stream",
     "text": [
      "2.88   1\n",
      "3.168317   2\n",
      "3.2   3\n",
      "3.027027   4\n",
      "3.285714   5\n",
      "2.973451   6\n",
      "3.263158   7\n",
      "3.026087   8\n",
      "3.137931   9\n",
      "3.282051   10\n",
      "2.949153   11\n",
      "3.092437   12\n",
      "2.980392   13\n",
      "3.3   14\n",
      "3.107438   15\n",
      "3.04918   16\n",
      "2.861789   17\n",
      "3   18\n",
      "2.944   19\n",
      "3.047619   20\n",
      "3.11811   21\n",
      "3.03125   22\n",
      "3.131783   23\n",
      "3.145631   24\n",
      "3.107692   25\n",
      "2.870229   26\n",
      "3.181818   27\n",
      "3.157895   28\n",
      "3.253731   29\n",
      "3.288889   30\n",
      "3.294118   31\n",
      "3.416058   32\n",
      "3.217391   33\n",
      "3.165468   34\n",
      "3.230769   35\n",
      "3.2   36\n",
      "3.245283   37\n",
      "2.953271   38\n",
      "3.296296   39\n",
      "3.155963   40\n",
      "---------------\n",
      " Grand Average = 3.12593\n"
     ]
    }
   ],
   "source": [
    "cat output/mcpi.out* | awk '{ sum += $2; print $2\"   \"NR} END { print \"---------------\\n Grand Average = \" sum/NR }'"
   ]
  },
  {
   "cell_type": "code",
   "execution_count": null,
   "id": "f193b712-dd4f-4b6b-9cee-09b82b9dc7e2",
   "metadata": {},
   "outputs": [],
   "source": []
  }
 ],
 "metadata": {
  "kernelspec": {
   "display_name": "Bash",
   "language": "bash",
   "name": "bash"
  },
  "language_info": {
   "codemirror_mode": "shell",
   "file_extension": ".sh",
   "mimetype": "text/x-sh",
   "name": "bash"
  }
 },
 "nbformat": 4,
 "nbformat_minor": 5
}
